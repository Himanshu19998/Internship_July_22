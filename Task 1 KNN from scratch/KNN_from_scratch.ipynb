{
  "nbformat": 4,
  "nbformat_minor": 0,
  "metadata": {
    "colab": {
      "provenance": [],
      "collapsed_sections": []
    },
    "kernelspec": {
      "name": "python3",
      "display_name": "Python 3"
    },
    "language_info": {
      "name": "python"
    }
  },
  "cells": [
    {
      "cell_type": "markdown",
      "source": [
        "# Data Description:\n",
        "\n",
        "1. Title : Diamonds Dataset\n",
        "2. the 7th column \"price\" is the values to be predicted.\n",
        "3. Data Type : Mixed ( Numerical + Categorical)\n",
        "4. Dataset has nearly 54000 instances.\n",
        "5. It has 10 features.\n",
        "6. Features \n",
        "\n",
        "\tprice : price in US dollars (\\$326--\\$18,823)\n",
        "\n",
        "\tcarat : weight of the diamond (0.2--5.01)\n",
        "\n",
        "\tcut   : quality of the cut (Fair, Good, Very Good, Premium, Ideal)\n",
        "\n",
        "\tcolor : diamond colour, from J (worst) to D (best)\n",
        "\n",
        "\tclarity : a measurement of how clear the diamond is (I1 (worst), SI2, SI1, VS2, VS1, VVS2, VVS1, IF (best))\n",
        "\n",
        "\tx : length in mm (0--10.74)\n",
        "\n",
        "\ty : width in mm (0--58.9)\n",
        "\n",
        "\tz : depth in mm (0--31.8)\n",
        "\n",
        "\tdepth : total depth percentage = z / mean(x, y) = 2 * z / (x + y) (43--79)\n",
        "\n",
        "\ttable : width of top of diamond relative to widest point (43--95)\n",
        "\n",
        "7. Caution : Handle Categorical data before building a model. \n",
        "\n",
        "\n"
      ],
      "metadata": {
        "id": "AxqEkrRJGN4Y"
      }
    },
    {
      "cell_type": "code",
      "execution_count": 113,
      "metadata": {
        "id": "TncGN0V5GAdA"
      },
      "outputs": [],
      "source": [
        "import numpy as np\n",
        "import pandas as pd\n",
        "import matplotlib.pyplot as plt\n",
        "import seaborn as sns\n",
        "import warnings\n",
        "warnings.filterwarnings('ignore')"
      ]
    },
    {
      "cell_type": "code",
      "source": [
        "df= pd.read_csv('/content/drive/MyDrive/data/diamonds.csv')\n",
        "df.head()"
      ],
      "metadata": {
        "colab": {
          "base_uri": "https://localhost:8080/",
          "height": 206
        },
        "id": "VdwgOXZlxLa1",
        "outputId": "127b9263-2f18-4d35-fe0c-b5d9eaadf22a"
      },
      "execution_count": 114,
      "outputs": [
        {
          "output_type": "execute_result",
          "data": {
            "text/plain": [
              "   carat      cut color clarity  depth  table  price     x     y     z\n",
              "0   0.23    Ideal     E     SI2   61.5   55.0    326  3.95  3.98  2.43\n",
              "1   0.21  Premium     E     SI1   59.8   61.0    326  3.89  3.84  2.31\n",
              "2   0.23     Good     E     VS1   56.9   65.0    327  4.05  4.07  2.31\n",
              "3   0.29  Premium     I     VS2   62.4   58.0    334  4.20  4.23  2.63\n",
              "4   0.31     Good     J     SI2   63.3   58.0    335  4.34  4.35  2.75"
            ],
            "text/html": [
              "\n",
              "  <div id=\"df-ec484556-2eb2-4a50-b0ba-7af347d72b10\">\n",
              "    <div class=\"colab-df-container\">\n",
              "      <div>\n",
              "<style scoped>\n",
              "    .dataframe tbody tr th:only-of-type {\n",
              "        vertical-align: middle;\n",
              "    }\n",
              "\n",
              "    .dataframe tbody tr th {\n",
              "        vertical-align: top;\n",
              "    }\n",
              "\n",
              "    .dataframe thead th {\n",
              "        text-align: right;\n",
              "    }\n",
              "</style>\n",
              "<table border=\"1\" class=\"dataframe\">\n",
              "  <thead>\n",
              "    <tr style=\"text-align: right;\">\n",
              "      <th></th>\n",
              "      <th>carat</th>\n",
              "      <th>cut</th>\n",
              "      <th>color</th>\n",
              "      <th>clarity</th>\n",
              "      <th>depth</th>\n",
              "      <th>table</th>\n",
              "      <th>price</th>\n",
              "      <th>x</th>\n",
              "      <th>y</th>\n",
              "      <th>z</th>\n",
              "    </tr>\n",
              "  </thead>\n",
              "  <tbody>\n",
              "    <tr>\n",
              "      <th>0</th>\n",
              "      <td>0.23</td>\n",
              "      <td>Ideal</td>\n",
              "      <td>E</td>\n",
              "      <td>SI2</td>\n",
              "      <td>61.5</td>\n",
              "      <td>55.0</td>\n",
              "      <td>326</td>\n",
              "      <td>3.95</td>\n",
              "      <td>3.98</td>\n",
              "      <td>2.43</td>\n",
              "    </tr>\n",
              "    <tr>\n",
              "      <th>1</th>\n",
              "      <td>0.21</td>\n",
              "      <td>Premium</td>\n",
              "      <td>E</td>\n",
              "      <td>SI1</td>\n",
              "      <td>59.8</td>\n",
              "      <td>61.0</td>\n",
              "      <td>326</td>\n",
              "      <td>3.89</td>\n",
              "      <td>3.84</td>\n",
              "      <td>2.31</td>\n",
              "    </tr>\n",
              "    <tr>\n",
              "      <th>2</th>\n",
              "      <td>0.23</td>\n",
              "      <td>Good</td>\n",
              "      <td>E</td>\n",
              "      <td>VS1</td>\n",
              "      <td>56.9</td>\n",
              "      <td>65.0</td>\n",
              "      <td>327</td>\n",
              "      <td>4.05</td>\n",
              "      <td>4.07</td>\n",
              "      <td>2.31</td>\n",
              "    </tr>\n",
              "    <tr>\n",
              "      <th>3</th>\n",
              "      <td>0.29</td>\n",
              "      <td>Premium</td>\n",
              "      <td>I</td>\n",
              "      <td>VS2</td>\n",
              "      <td>62.4</td>\n",
              "      <td>58.0</td>\n",
              "      <td>334</td>\n",
              "      <td>4.20</td>\n",
              "      <td>4.23</td>\n",
              "      <td>2.63</td>\n",
              "    </tr>\n",
              "    <tr>\n",
              "      <th>4</th>\n",
              "      <td>0.31</td>\n",
              "      <td>Good</td>\n",
              "      <td>J</td>\n",
              "      <td>SI2</td>\n",
              "      <td>63.3</td>\n",
              "      <td>58.0</td>\n",
              "      <td>335</td>\n",
              "      <td>4.34</td>\n",
              "      <td>4.35</td>\n",
              "      <td>2.75</td>\n",
              "    </tr>\n",
              "  </tbody>\n",
              "</table>\n",
              "</div>\n",
              "      <button class=\"colab-df-convert\" onclick=\"convertToInteractive('df-ec484556-2eb2-4a50-b0ba-7af347d72b10')\"\n",
              "              title=\"Convert this dataframe to an interactive table.\"\n",
              "              style=\"display:none;\">\n",
              "        \n",
              "  <svg xmlns=\"http://www.w3.org/2000/svg\" height=\"24px\"viewBox=\"0 0 24 24\"\n",
              "       width=\"24px\">\n",
              "    <path d=\"M0 0h24v24H0V0z\" fill=\"none\"/>\n",
              "    <path d=\"M18.56 5.44l.94 2.06.94-2.06 2.06-.94-2.06-.94-.94-2.06-.94 2.06-2.06.94zm-11 1L8.5 8.5l.94-2.06 2.06-.94-2.06-.94L8.5 2.5l-.94 2.06-2.06.94zm10 10l.94 2.06.94-2.06 2.06-.94-2.06-.94-.94-2.06-.94 2.06-2.06.94z\"/><path d=\"M17.41 7.96l-1.37-1.37c-.4-.4-.92-.59-1.43-.59-.52 0-1.04.2-1.43.59L10.3 9.45l-7.72 7.72c-.78.78-.78 2.05 0 2.83L4 21.41c.39.39.9.59 1.41.59.51 0 1.02-.2 1.41-.59l7.78-7.78 2.81-2.81c.8-.78.8-2.07 0-2.86zM5.41 20L4 18.59l7.72-7.72 1.47 1.35L5.41 20z\"/>\n",
              "  </svg>\n",
              "      </button>\n",
              "      \n",
              "  <style>\n",
              "    .colab-df-container {\n",
              "      display:flex;\n",
              "      flex-wrap:wrap;\n",
              "      gap: 12px;\n",
              "    }\n",
              "\n",
              "    .colab-df-convert {\n",
              "      background-color: #E8F0FE;\n",
              "      border: none;\n",
              "      border-radius: 50%;\n",
              "      cursor: pointer;\n",
              "      display: none;\n",
              "      fill: #1967D2;\n",
              "      height: 32px;\n",
              "      padding: 0 0 0 0;\n",
              "      width: 32px;\n",
              "    }\n",
              "\n",
              "    .colab-df-convert:hover {\n",
              "      background-color: #E2EBFA;\n",
              "      box-shadow: 0px 1px 2px rgba(60, 64, 67, 0.3), 0px 1px 3px 1px rgba(60, 64, 67, 0.15);\n",
              "      fill: #174EA6;\n",
              "    }\n",
              "\n",
              "    [theme=dark] .colab-df-convert {\n",
              "      background-color: #3B4455;\n",
              "      fill: #D2E3FC;\n",
              "    }\n",
              "\n",
              "    [theme=dark] .colab-df-convert:hover {\n",
              "      background-color: #434B5C;\n",
              "      box-shadow: 0px 1px 3px 1px rgba(0, 0, 0, 0.15);\n",
              "      filter: drop-shadow(0px 1px 2px rgba(0, 0, 0, 0.3));\n",
              "      fill: #FFFFFF;\n",
              "    }\n",
              "  </style>\n",
              "\n",
              "      <script>\n",
              "        const buttonEl =\n",
              "          document.querySelector('#df-ec484556-2eb2-4a50-b0ba-7af347d72b10 button.colab-df-convert');\n",
              "        buttonEl.style.display =\n",
              "          google.colab.kernel.accessAllowed ? 'block' : 'none';\n",
              "\n",
              "        async function convertToInteractive(key) {\n",
              "          const element = document.querySelector('#df-ec484556-2eb2-4a50-b0ba-7af347d72b10');\n",
              "          const dataTable =\n",
              "            await google.colab.kernel.invokeFunction('convertToInteractive',\n",
              "                                                     [key], {});\n",
              "          if (!dataTable) return;\n",
              "\n",
              "          const docLinkHtml = 'Like what you see? Visit the ' +\n",
              "            '<a target=\"_blank\" href=https://colab.research.google.com/notebooks/data_table.ipynb>data table notebook</a>'\n",
              "            + ' to learn more about interactive tables.';\n",
              "          element.innerHTML = '';\n",
              "          dataTable['output_type'] = 'display_data';\n",
              "          await google.colab.output.renderOutput(dataTable, element);\n",
              "          const docLink = document.createElement('div');\n",
              "          docLink.innerHTML = docLinkHtml;\n",
              "          element.appendChild(docLink);\n",
              "        }\n",
              "      </script>\n",
              "    </div>\n",
              "  </div>\n",
              "  "
            ]
          },
          "metadata": {},
          "execution_count": 114
        }
      ]
    },
    {
      "cell_type": "code",
      "source": [
        "df.shape"
      ],
      "metadata": {
        "colab": {
          "base_uri": "https://localhost:8080/"
        },
        "id": "34nQcbUoxZ-W",
        "outputId": "6e9cc761-6fa5-4317-cdd5-331ddb8212a4"
      },
      "execution_count": 115,
      "outputs": [
        {
          "output_type": "execute_result",
          "data": {
            "text/plain": [
              "(53940, 10)"
            ]
          },
          "metadata": {},
          "execution_count": 115
        }
      ]
    },
    {
      "cell_type": "code",
      "source": [
        "df.isnull().sum()"
      ],
      "metadata": {
        "colab": {
          "base_uri": "https://localhost:8080/"
        },
        "id": "vr91kUSixme0",
        "outputId": "a93a94c7-60b9-466e-99e6-f8ebbbdd5d2d"
      },
      "execution_count": 116,
      "outputs": [
        {
          "output_type": "execute_result",
          "data": {
            "text/plain": [
              "carat      0\n",
              "cut        0\n",
              "color      0\n",
              "clarity    0\n",
              "depth      0\n",
              "table      0\n",
              "price      0\n",
              "x          0\n",
              "y          0\n",
              "z          0\n",
              "dtype: int64"
            ]
          },
          "metadata": {},
          "execution_count": 116
        }
      ]
    },
    {
      "cell_type": "code",
      "source": [
        "df.duplicated().sum()"
      ],
      "metadata": {
        "colab": {
          "base_uri": "https://localhost:8080/"
        },
        "id": "jG63w_bxc8Gy",
        "outputId": "11d9bcf2-f592-47e5-ef40-7360e6fc1ebd"
      },
      "execution_count": 117,
      "outputs": [
        {
          "output_type": "execute_result",
          "data": {
            "text/plain": [
              "146"
            ]
          },
          "metadata": {},
          "execution_count": 117
        }
      ]
    },
    {
      "cell_type": "code",
      "source": [
        "df= df.drop_duplicates()\n",
        "df.shape"
      ],
      "metadata": {
        "colab": {
          "base_uri": "https://localhost:8080/"
        },
        "id": "nCCmG1vwdGyz",
        "outputId": "ecf882ad-5641-4738-83f7-1b492a51ec3b"
      },
      "execution_count": 118,
      "outputs": [
        {
          "output_type": "execute_result",
          "data": {
            "text/plain": [
              "(53794, 10)"
            ]
          },
          "metadata": {},
          "execution_count": 118
        }
      ]
    },
    {
      "cell_type": "code",
      "source": [
        "df.describe(include='all')"
      ],
      "metadata": {
        "colab": {
          "base_uri": "https://localhost:8080/",
          "height": 394
        },
        "id": "zAXPhCZM3sIt",
        "outputId": "c078acd3-8488-4704-e0af-ee175a502c1c"
      },
      "execution_count": 119,
      "outputs": [
        {
          "output_type": "execute_result",
          "data": {
            "text/plain": [
              "              carat    cut  color clarity         depth         table  \\\n",
              "count   53794.00000  53794  53794   53794  53794.000000  53794.000000   \n",
              "unique          NaN      5      7       8           NaN           NaN   \n",
              "top             NaN  Ideal      G     SI1           NaN           NaN   \n",
              "freq            NaN  21488  11262   13032           NaN           NaN   \n",
              "mean        0.79778    NaN    NaN     NaN     61.748080     57.458109   \n",
              "std         0.47339    NaN    NaN     NaN      1.429909      2.233679   \n",
              "min         0.20000    NaN    NaN     NaN     43.000000     43.000000   \n",
              "25%         0.40000    NaN    NaN     NaN     61.000000     56.000000   \n",
              "50%         0.70000    NaN    NaN     NaN     61.800000     57.000000   \n",
              "75%         1.04000    NaN    NaN     NaN     62.500000     59.000000   \n",
              "max         5.01000    NaN    NaN     NaN     79.000000     95.000000   \n",
              "\n",
              "               price             x             y             z  \n",
              "count   53794.000000  53794.000000  53794.000000  53794.000000  \n",
              "unique           NaN           NaN           NaN           NaN  \n",
              "top              NaN           NaN           NaN           NaN  \n",
              "freq             NaN           NaN           NaN           NaN  \n",
              "mean     3933.065082      5.731214      5.734653      3.538714  \n",
              "std      3988.114460      1.120695      1.141209      0.705037  \n",
              "min       326.000000      0.000000      0.000000      0.000000  \n",
              "25%       951.000000      4.710000      4.720000      2.910000  \n",
              "50%      2401.000000      5.700000      5.710000      3.530000  \n",
              "75%      5326.750000      6.540000      6.540000      4.030000  \n",
              "max     18823.000000     10.740000     58.900000     31.800000  "
            ],
            "text/html": [
              "\n",
              "  <div id=\"df-dd3836ad-7d55-4351-bd91-c3d6417937d0\">\n",
              "    <div class=\"colab-df-container\">\n",
              "      <div>\n",
              "<style scoped>\n",
              "    .dataframe tbody tr th:only-of-type {\n",
              "        vertical-align: middle;\n",
              "    }\n",
              "\n",
              "    .dataframe tbody tr th {\n",
              "        vertical-align: top;\n",
              "    }\n",
              "\n",
              "    .dataframe thead th {\n",
              "        text-align: right;\n",
              "    }\n",
              "</style>\n",
              "<table border=\"1\" class=\"dataframe\">\n",
              "  <thead>\n",
              "    <tr style=\"text-align: right;\">\n",
              "      <th></th>\n",
              "      <th>carat</th>\n",
              "      <th>cut</th>\n",
              "      <th>color</th>\n",
              "      <th>clarity</th>\n",
              "      <th>depth</th>\n",
              "      <th>table</th>\n",
              "      <th>price</th>\n",
              "      <th>x</th>\n",
              "      <th>y</th>\n",
              "      <th>z</th>\n",
              "    </tr>\n",
              "  </thead>\n",
              "  <tbody>\n",
              "    <tr>\n",
              "      <th>count</th>\n",
              "      <td>53794.00000</td>\n",
              "      <td>53794</td>\n",
              "      <td>53794</td>\n",
              "      <td>53794</td>\n",
              "      <td>53794.000000</td>\n",
              "      <td>53794.000000</td>\n",
              "      <td>53794.000000</td>\n",
              "      <td>53794.000000</td>\n",
              "      <td>53794.000000</td>\n",
              "      <td>53794.000000</td>\n",
              "    </tr>\n",
              "    <tr>\n",
              "      <th>unique</th>\n",
              "      <td>NaN</td>\n",
              "      <td>5</td>\n",
              "      <td>7</td>\n",
              "      <td>8</td>\n",
              "      <td>NaN</td>\n",
              "      <td>NaN</td>\n",
              "      <td>NaN</td>\n",
              "      <td>NaN</td>\n",
              "      <td>NaN</td>\n",
              "      <td>NaN</td>\n",
              "    </tr>\n",
              "    <tr>\n",
              "      <th>top</th>\n",
              "      <td>NaN</td>\n",
              "      <td>Ideal</td>\n",
              "      <td>G</td>\n",
              "      <td>SI1</td>\n",
              "      <td>NaN</td>\n",
              "      <td>NaN</td>\n",
              "      <td>NaN</td>\n",
              "      <td>NaN</td>\n",
              "      <td>NaN</td>\n",
              "      <td>NaN</td>\n",
              "    </tr>\n",
              "    <tr>\n",
              "      <th>freq</th>\n",
              "      <td>NaN</td>\n",
              "      <td>21488</td>\n",
              "      <td>11262</td>\n",
              "      <td>13032</td>\n",
              "      <td>NaN</td>\n",
              "      <td>NaN</td>\n",
              "      <td>NaN</td>\n",
              "      <td>NaN</td>\n",
              "      <td>NaN</td>\n",
              "      <td>NaN</td>\n",
              "    </tr>\n",
              "    <tr>\n",
              "      <th>mean</th>\n",
              "      <td>0.79778</td>\n",
              "      <td>NaN</td>\n",
              "      <td>NaN</td>\n",
              "      <td>NaN</td>\n",
              "      <td>61.748080</td>\n",
              "      <td>57.458109</td>\n",
              "      <td>3933.065082</td>\n",
              "      <td>5.731214</td>\n",
              "      <td>5.734653</td>\n",
              "      <td>3.538714</td>\n",
              "    </tr>\n",
              "    <tr>\n",
              "      <th>std</th>\n",
              "      <td>0.47339</td>\n",
              "      <td>NaN</td>\n",
              "      <td>NaN</td>\n",
              "      <td>NaN</td>\n",
              "      <td>1.429909</td>\n",
              "      <td>2.233679</td>\n",
              "      <td>3988.114460</td>\n",
              "      <td>1.120695</td>\n",
              "      <td>1.141209</td>\n",
              "      <td>0.705037</td>\n",
              "    </tr>\n",
              "    <tr>\n",
              "      <th>min</th>\n",
              "      <td>0.20000</td>\n",
              "      <td>NaN</td>\n",
              "      <td>NaN</td>\n",
              "      <td>NaN</td>\n",
              "      <td>43.000000</td>\n",
              "      <td>43.000000</td>\n",
              "      <td>326.000000</td>\n",
              "      <td>0.000000</td>\n",
              "      <td>0.000000</td>\n",
              "      <td>0.000000</td>\n",
              "    </tr>\n",
              "    <tr>\n",
              "      <th>25%</th>\n",
              "      <td>0.40000</td>\n",
              "      <td>NaN</td>\n",
              "      <td>NaN</td>\n",
              "      <td>NaN</td>\n",
              "      <td>61.000000</td>\n",
              "      <td>56.000000</td>\n",
              "      <td>951.000000</td>\n",
              "      <td>4.710000</td>\n",
              "      <td>4.720000</td>\n",
              "      <td>2.910000</td>\n",
              "    </tr>\n",
              "    <tr>\n",
              "      <th>50%</th>\n",
              "      <td>0.70000</td>\n",
              "      <td>NaN</td>\n",
              "      <td>NaN</td>\n",
              "      <td>NaN</td>\n",
              "      <td>61.800000</td>\n",
              "      <td>57.000000</td>\n",
              "      <td>2401.000000</td>\n",
              "      <td>5.700000</td>\n",
              "      <td>5.710000</td>\n",
              "      <td>3.530000</td>\n",
              "    </tr>\n",
              "    <tr>\n",
              "      <th>75%</th>\n",
              "      <td>1.04000</td>\n",
              "      <td>NaN</td>\n",
              "      <td>NaN</td>\n",
              "      <td>NaN</td>\n",
              "      <td>62.500000</td>\n",
              "      <td>59.000000</td>\n",
              "      <td>5326.750000</td>\n",
              "      <td>6.540000</td>\n",
              "      <td>6.540000</td>\n",
              "      <td>4.030000</td>\n",
              "    </tr>\n",
              "    <tr>\n",
              "      <th>max</th>\n",
              "      <td>5.01000</td>\n",
              "      <td>NaN</td>\n",
              "      <td>NaN</td>\n",
              "      <td>NaN</td>\n",
              "      <td>79.000000</td>\n",
              "      <td>95.000000</td>\n",
              "      <td>18823.000000</td>\n",
              "      <td>10.740000</td>\n",
              "      <td>58.900000</td>\n",
              "      <td>31.800000</td>\n",
              "    </tr>\n",
              "  </tbody>\n",
              "</table>\n",
              "</div>\n",
              "      <button class=\"colab-df-convert\" onclick=\"convertToInteractive('df-dd3836ad-7d55-4351-bd91-c3d6417937d0')\"\n",
              "              title=\"Convert this dataframe to an interactive table.\"\n",
              "              style=\"display:none;\">\n",
              "        \n",
              "  <svg xmlns=\"http://www.w3.org/2000/svg\" height=\"24px\"viewBox=\"0 0 24 24\"\n",
              "       width=\"24px\">\n",
              "    <path d=\"M0 0h24v24H0V0z\" fill=\"none\"/>\n",
              "    <path d=\"M18.56 5.44l.94 2.06.94-2.06 2.06-.94-2.06-.94-.94-2.06-.94 2.06-2.06.94zm-11 1L8.5 8.5l.94-2.06 2.06-.94-2.06-.94L8.5 2.5l-.94 2.06-2.06.94zm10 10l.94 2.06.94-2.06 2.06-.94-2.06-.94-.94-2.06-.94 2.06-2.06.94z\"/><path d=\"M17.41 7.96l-1.37-1.37c-.4-.4-.92-.59-1.43-.59-.52 0-1.04.2-1.43.59L10.3 9.45l-7.72 7.72c-.78.78-.78 2.05 0 2.83L4 21.41c.39.39.9.59 1.41.59.51 0 1.02-.2 1.41-.59l7.78-7.78 2.81-2.81c.8-.78.8-2.07 0-2.86zM5.41 20L4 18.59l7.72-7.72 1.47 1.35L5.41 20z\"/>\n",
              "  </svg>\n",
              "      </button>\n",
              "      \n",
              "  <style>\n",
              "    .colab-df-container {\n",
              "      display:flex;\n",
              "      flex-wrap:wrap;\n",
              "      gap: 12px;\n",
              "    }\n",
              "\n",
              "    .colab-df-convert {\n",
              "      background-color: #E8F0FE;\n",
              "      border: none;\n",
              "      border-radius: 50%;\n",
              "      cursor: pointer;\n",
              "      display: none;\n",
              "      fill: #1967D2;\n",
              "      height: 32px;\n",
              "      padding: 0 0 0 0;\n",
              "      width: 32px;\n",
              "    }\n",
              "\n",
              "    .colab-df-convert:hover {\n",
              "      background-color: #E2EBFA;\n",
              "      box-shadow: 0px 1px 2px rgba(60, 64, 67, 0.3), 0px 1px 3px 1px rgba(60, 64, 67, 0.15);\n",
              "      fill: #174EA6;\n",
              "    }\n",
              "\n",
              "    [theme=dark] .colab-df-convert {\n",
              "      background-color: #3B4455;\n",
              "      fill: #D2E3FC;\n",
              "    }\n",
              "\n",
              "    [theme=dark] .colab-df-convert:hover {\n",
              "      background-color: #434B5C;\n",
              "      box-shadow: 0px 1px 3px 1px rgba(0, 0, 0, 0.15);\n",
              "      filter: drop-shadow(0px 1px 2px rgba(0, 0, 0, 0.3));\n",
              "      fill: #FFFFFF;\n",
              "    }\n",
              "  </style>\n",
              "\n",
              "      <script>\n",
              "        const buttonEl =\n",
              "          document.querySelector('#df-dd3836ad-7d55-4351-bd91-c3d6417937d0 button.colab-df-convert');\n",
              "        buttonEl.style.display =\n",
              "          google.colab.kernel.accessAllowed ? 'block' : 'none';\n",
              "\n",
              "        async function convertToInteractive(key) {\n",
              "          const element = document.querySelector('#df-dd3836ad-7d55-4351-bd91-c3d6417937d0');\n",
              "          const dataTable =\n",
              "            await google.colab.kernel.invokeFunction('convertToInteractive',\n",
              "                                                     [key], {});\n",
              "          if (!dataTable) return;\n",
              "\n",
              "          const docLinkHtml = 'Like what you see? Visit the ' +\n",
              "            '<a target=\"_blank\" href=https://colab.research.google.com/notebooks/data_table.ipynb>data table notebook</a>'\n",
              "            + ' to learn more about interactive tables.';\n",
              "          element.innerHTML = '';\n",
              "          dataTable['output_type'] = 'display_data';\n",
              "          await google.colab.output.renderOutput(dataTable, element);\n",
              "          const docLink = document.createElement('div');\n",
              "          docLink.innerHTML = docLinkHtml;\n",
              "          element.appendChild(docLink);\n",
              "        }\n",
              "      </script>\n",
              "    </div>\n",
              "  </div>\n",
              "  "
            ]
          },
          "metadata": {},
          "execution_count": 119
        }
      ]
    },
    {
      "cell_type": "code",
      "source": [
        "df.columns"
      ],
      "metadata": {
        "colab": {
          "base_uri": "https://localhost:8080/"
        },
        "id": "bZEjzYY9zm_n",
        "outputId": "753cfc08-6912-4b18-8a48-ea08366aadfc"
      },
      "execution_count": 120,
      "outputs": [
        {
          "output_type": "execute_result",
          "data": {
            "text/plain": [
              "Index(['carat', 'cut', 'color', 'clarity', 'depth', 'table', 'price', 'x', 'y',\n",
              "       'z'],\n",
              "      dtype='object')"
            ]
          },
          "metadata": {},
          "execution_count": 120
        }
      ]
    },
    {
      "cell_type": "code",
      "source": [
        "df = df[['carat', 'cut', 'color', 'clarity', 'depth', 'table', 'x', 'y', 'z', 'price']]\n",
        "\n",
        "df.head()"
      ],
      "metadata": {
        "colab": {
          "base_uri": "https://localhost:8080/",
          "height": 206
        },
        "id": "rtWQWTNO0jhI",
        "outputId": "159f7222-2352-40e9-e573-f90a15fa5dc4"
      },
      "execution_count": 121,
      "outputs": [
        {
          "output_type": "execute_result",
          "data": {
            "text/plain": [
              "   carat      cut color clarity  depth  table     x     y     z  price\n",
              "0   0.23    Ideal     E     SI2   61.5   55.0  3.95  3.98  2.43    326\n",
              "1   0.21  Premium     E     SI1   59.8   61.0  3.89  3.84  2.31    326\n",
              "2   0.23     Good     E     VS1   56.9   65.0  4.05  4.07  2.31    327\n",
              "3   0.29  Premium     I     VS2   62.4   58.0  4.20  4.23  2.63    334\n",
              "4   0.31     Good     J     SI2   63.3   58.0  4.34  4.35  2.75    335"
            ],
            "text/html": [
              "\n",
              "  <div id=\"df-cf330eee-d1be-4b5c-a83d-57eee5b3b0e2\">\n",
              "    <div class=\"colab-df-container\">\n",
              "      <div>\n",
              "<style scoped>\n",
              "    .dataframe tbody tr th:only-of-type {\n",
              "        vertical-align: middle;\n",
              "    }\n",
              "\n",
              "    .dataframe tbody tr th {\n",
              "        vertical-align: top;\n",
              "    }\n",
              "\n",
              "    .dataframe thead th {\n",
              "        text-align: right;\n",
              "    }\n",
              "</style>\n",
              "<table border=\"1\" class=\"dataframe\">\n",
              "  <thead>\n",
              "    <tr style=\"text-align: right;\">\n",
              "      <th></th>\n",
              "      <th>carat</th>\n",
              "      <th>cut</th>\n",
              "      <th>color</th>\n",
              "      <th>clarity</th>\n",
              "      <th>depth</th>\n",
              "      <th>table</th>\n",
              "      <th>x</th>\n",
              "      <th>y</th>\n",
              "      <th>z</th>\n",
              "      <th>price</th>\n",
              "    </tr>\n",
              "  </thead>\n",
              "  <tbody>\n",
              "    <tr>\n",
              "      <th>0</th>\n",
              "      <td>0.23</td>\n",
              "      <td>Ideal</td>\n",
              "      <td>E</td>\n",
              "      <td>SI2</td>\n",
              "      <td>61.5</td>\n",
              "      <td>55.0</td>\n",
              "      <td>3.95</td>\n",
              "      <td>3.98</td>\n",
              "      <td>2.43</td>\n",
              "      <td>326</td>\n",
              "    </tr>\n",
              "    <tr>\n",
              "      <th>1</th>\n",
              "      <td>0.21</td>\n",
              "      <td>Premium</td>\n",
              "      <td>E</td>\n",
              "      <td>SI1</td>\n",
              "      <td>59.8</td>\n",
              "      <td>61.0</td>\n",
              "      <td>3.89</td>\n",
              "      <td>3.84</td>\n",
              "      <td>2.31</td>\n",
              "      <td>326</td>\n",
              "    </tr>\n",
              "    <tr>\n",
              "      <th>2</th>\n",
              "      <td>0.23</td>\n",
              "      <td>Good</td>\n",
              "      <td>E</td>\n",
              "      <td>VS1</td>\n",
              "      <td>56.9</td>\n",
              "      <td>65.0</td>\n",
              "      <td>4.05</td>\n",
              "      <td>4.07</td>\n",
              "      <td>2.31</td>\n",
              "      <td>327</td>\n",
              "    </tr>\n",
              "    <tr>\n",
              "      <th>3</th>\n",
              "      <td>0.29</td>\n",
              "      <td>Premium</td>\n",
              "      <td>I</td>\n",
              "      <td>VS2</td>\n",
              "      <td>62.4</td>\n",
              "      <td>58.0</td>\n",
              "      <td>4.20</td>\n",
              "      <td>4.23</td>\n",
              "      <td>2.63</td>\n",
              "      <td>334</td>\n",
              "    </tr>\n",
              "    <tr>\n",
              "      <th>4</th>\n",
              "      <td>0.31</td>\n",
              "      <td>Good</td>\n",
              "      <td>J</td>\n",
              "      <td>SI2</td>\n",
              "      <td>63.3</td>\n",
              "      <td>58.0</td>\n",
              "      <td>4.34</td>\n",
              "      <td>4.35</td>\n",
              "      <td>2.75</td>\n",
              "      <td>335</td>\n",
              "    </tr>\n",
              "  </tbody>\n",
              "</table>\n",
              "</div>\n",
              "      <button class=\"colab-df-convert\" onclick=\"convertToInteractive('df-cf330eee-d1be-4b5c-a83d-57eee5b3b0e2')\"\n",
              "              title=\"Convert this dataframe to an interactive table.\"\n",
              "              style=\"display:none;\">\n",
              "        \n",
              "  <svg xmlns=\"http://www.w3.org/2000/svg\" height=\"24px\"viewBox=\"0 0 24 24\"\n",
              "       width=\"24px\">\n",
              "    <path d=\"M0 0h24v24H0V0z\" fill=\"none\"/>\n",
              "    <path d=\"M18.56 5.44l.94 2.06.94-2.06 2.06-.94-2.06-.94-.94-2.06-.94 2.06-2.06.94zm-11 1L8.5 8.5l.94-2.06 2.06-.94-2.06-.94L8.5 2.5l-.94 2.06-2.06.94zm10 10l.94 2.06.94-2.06 2.06-.94-2.06-.94-.94-2.06-.94 2.06-2.06.94z\"/><path d=\"M17.41 7.96l-1.37-1.37c-.4-.4-.92-.59-1.43-.59-.52 0-1.04.2-1.43.59L10.3 9.45l-7.72 7.72c-.78.78-.78 2.05 0 2.83L4 21.41c.39.39.9.59 1.41.59.51 0 1.02-.2 1.41-.59l7.78-7.78 2.81-2.81c.8-.78.8-2.07 0-2.86zM5.41 20L4 18.59l7.72-7.72 1.47 1.35L5.41 20z\"/>\n",
              "  </svg>\n",
              "      </button>\n",
              "      \n",
              "  <style>\n",
              "    .colab-df-container {\n",
              "      display:flex;\n",
              "      flex-wrap:wrap;\n",
              "      gap: 12px;\n",
              "    }\n",
              "\n",
              "    .colab-df-convert {\n",
              "      background-color: #E8F0FE;\n",
              "      border: none;\n",
              "      border-radius: 50%;\n",
              "      cursor: pointer;\n",
              "      display: none;\n",
              "      fill: #1967D2;\n",
              "      height: 32px;\n",
              "      padding: 0 0 0 0;\n",
              "      width: 32px;\n",
              "    }\n",
              "\n",
              "    .colab-df-convert:hover {\n",
              "      background-color: #E2EBFA;\n",
              "      box-shadow: 0px 1px 2px rgba(60, 64, 67, 0.3), 0px 1px 3px 1px rgba(60, 64, 67, 0.15);\n",
              "      fill: #174EA6;\n",
              "    }\n",
              "\n",
              "    [theme=dark] .colab-df-convert {\n",
              "      background-color: #3B4455;\n",
              "      fill: #D2E3FC;\n",
              "    }\n",
              "\n",
              "    [theme=dark] .colab-df-convert:hover {\n",
              "      background-color: #434B5C;\n",
              "      box-shadow: 0px 1px 3px 1px rgba(0, 0, 0, 0.15);\n",
              "      filter: drop-shadow(0px 1px 2px rgba(0, 0, 0, 0.3));\n",
              "      fill: #FFFFFF;\n",
              "    }\n",
              "  </style>\n",
              "\n",
              "      <script>\n",
              "        const buttonEl =\n",
              "          document.querySelector('#df-cf330eee-d1be-4b5c-a83d-57eee5b3b0e2 button.colab-df-convert');\n",
              "        buttonEl.style.display =\n",
              "          google.colab.kernel.accessAllowed ? 'block' : 'none';\n",
              "\n",
              "        async function convertToInteractive(key) {\n",
              "          const element = document.querySelector('#df-cf330eee-d1be-4b5c-a83d-57eee5b3b0e2');\n",
              "          const dataTable =\n",
              "            await google.colab.kernel.invokeFunction('convertToInteractive',\n",
              "                                                     [key], {});\n",
              "          if (!dataTable) return;\n",
              "\n",
              "          const docLinkHtml = 'Like what you see? Visit the ' +\n",
              "            '<a target=\"_blank\" href=https://colab.research.google.com/notebooks/data_table.ipynb>data table notebook</a>'\n",
              "            + ' to learn more about interactive tables.';\n",
              "          element.innerHTML = '';\n",
              "          dataTable['output_type'] = 'display_data';\n",
              "          await google.colab.output.renderOutput(dataTable, element);\n",
              "          const docLink = document.createElement('div');\n",
              "          docLink.innerHTML = docLinkHtml;\n",
              "          element.appendChild(docLink);\n",
              "        }\n",
              "      </script>\n",
              "    </div>\n",
              "  </div>\n",
              "  "
            ]
          },
          "metadata": {},
          "execution_count": 121
        }
      ]
    },
    {
      "cell_type": "code",
      "source": [
        "# Univariate Analysis\n",
        "num_feature = df.select_dtypes(include=['int64','float64'])\n",
        "print(num_feature.columns)"
      ],
      "metadata": {
        "colab": {
          "base_uri": "https://localhost:8080/"
        },
        "id": "6LZT13yD0o_G",
        "outputId": "cfe6ba73-398f-4d31-9ce5-d10bd9d29165"
      },
      "execution_count": 122,
      "outputs": [
        {
          "output_type": "stream",
          "name": "stdout",
          "text": [
            "Index(['carat', 'depth', 'table', 'x', 'y', 'z', 'price'], dtype='object')\n"
          ]
        }
      ]
    },
    {
      "cell_type": "code",
      "source": [
        "num_feature.hist(figsize=(15,10))"
      ],
      "metadata": {
        "colab": {
          "base_uri": "https://localhost:8080/",
          "height": 781
        },
        "id": "uUwiqqJ2eb_A",
        "outputId": "a903c6c8-8784-4451-fa90-79e6299003b5"
      },
      "execution_count": 123,
      "outputs": [
        {
          "output_type": "execute_result",
          "data": {
            "text/plain": [
              "array([[<matplotlib.axes._subplots.AxesSubplot object at 0x7fa877f46210>,\n",
              "        <matplotlib.axes._subplots.AxesSubplot object at 0x7fa877f02f50>,\n",
              "        <matplotlib.axes._subplots.AxesSubplot object at 0x7fa877eb35d0>],\n",
              "       [<matplotlib.axes._subplots.AxesSubplot object at 0x7fa877e65bd0>,\n",
              "        <matplotlib.axes._subplots.AxesSubplot object at 0x7fa877e1e290>,\n",
              "        <matplotlib.axes._subplots.AxesSubplot object at 0x7fa877dd0890>],\n",
              "       [<matplotlib.axes._subplots.AxesSubplot object at 0x7fa877e03e50>,\n",
              "        <matplotlib.axes._subplots.AxesSubplot object at 0x7fa877dbe910>,\n",
              "        <matplotlib.axes._subplots.AxesSubplot object at 0x7fa877dbe990>]],\n",
              "      dtype=object)"
            ]
          },
          "metadata": {},
          "execution_count": 123
        },
        {
          "output_type": "display_data",
          "data": {
            "text/plain": [
              "<Figure size 1080x720 with 9 Axes>"
            ],
            "image/png": "[encoded data removed]"
          },
          "metadata": {
            "needs_background": "light"
          }
        }
      ]
    },
    {
      "cell_type": "markdown",
      "source": [
        "# Observation:\n",
        "1. The depth is very close to normal distribution.\n",
        "2. Price feature is right skewed."
      ],
      "metadata": {
        "id": "QB3OljZ4euQX"
      }
    },
    {
      "cell_type": "code",
      "source": [
        "cat_feature = df.select_dtypes(include=['object'])\n",
        "print(cat_feature.columns)\n"
      ],
      "metadata": {
        "colab": {
          "base_uri": "https://localhost:8080/"
        },
        "id": "Ex00xOZR1wAH",
        "outputId": "f56c0b0e-979e-40d7-fd99-394dced897e2"
      },
      "execution_count": 124,
      "outputs": [
        {
          "output_type": "stream",
          "name": "stdout",
          "text": [
            "Index(['cut', 'color', 'clarity'], dtype='object')\n"
          ]
        }
      ]
    },
    {
      "cell_type": "code",
      "source": [
        "plt.figure(figsize=(24,48))\n",
        "plt.subplot(411)\n",
        "sns.countplot(y='cut',hue='color',data=cat_feature)\n",
        "plt.title('Color vs cut_quality')"
      ],
      "metadata": {
        "id": "VIUA2EC6frBn",
        "colab": {
          "base_uri": "https://localhost:8080/",
          "height": 582
        },
        "outputId": "fb0bdc66-f84c-408d-96bd-89b99f5320c4"
      },
      "execution_count": 125,
      "outputs": [
        {
          "output_type": "execute_result",
          "data": {
            "text/plain": [
              "Text(0.5, 1.0, 'Color vs cut_quality')"
            ]
          },
          "metadata": {},
          "execution_count": 125
        },
        {
          "output_type": "display_data",
          "data": {
            "text/plain": [
              "<Figure size 1728x3456 with 1 Axes>"
            ],
            "image/png": "[encoded data removed]"
          },
          "metadata": {
            "needs_background": "light"
          }
        }
      ]
    },
    {
      "cell_type": "markdown",
      "source": [
        "# Observation:\n",
        "Cut quality of any diamond has mostly the best color."
      ],
      "metadata": {
        "id": "TGFOsiJkSohT"
      }
    },
    {
      "cell_type": "code",
      "source": [
        "# Bivariate Analysis\n",
        "plt.figure(figsize=(10,7))\n",
        "sns.heatmap(df.corr(),data=df,annot=True,cmap='RdBu_r')"
      ],
      "metadata": {
        "colab": {
          "base_uri": "https://localhost:8080/",
          "height": 449
        },
        "id": "gNlt_UuI4Mon",
        "outputId": "6eb6016c-a458-47bf-b19e-1314ddad2f4c"
      },
      "execution_count": 126,
      "outputs": [
        {
          "output_type": "execute_result",
          "data": {
            "text/plain": [
              "<matplotlib.axes._subplots.AxesSubplot at 0x7fa877a1ec50>"
            ]
          },
          "metadata": {},
          "execution_count": 126
        },
        {
          "output_type": "display_data",
          "data": {
            "text/plain": [
              "<Figure size 720x504 with 2 Axes>"
            ],
            "image/png": "[encoded data removed]"
          },
          "metadata": {
            "needs_background": "light"
          }
        }
      ]
    },
    {
      "cell_type": "markdown",
      "source": [
        "# Observation:\n",
        "Price of any diamonds depends upon carat,Length,width,depth"
      ],
      "metadata": {
        "id": "t7AaIxZ5-_Oe"
      }
    },
    {
      "cell_type": "code",
      "source": [
        "sns.boxplot(y = 'price',data=df,x='color',palette='Set1',width=0.4,order=['D','E','F','G','H','I','J'])"
      ],
      "metadata": {
        "colab": {
          "base_uri": "https://localhost:8080/",
          "height": 296
        },
        "id": "DCVqaWgO5I3l",
        "outputId": "d0fb4a79-42d6-48eb-90b2-9698d5af4e02"
      },
      "execution_count": 127,
      "outputs": [
        {
          "output_type": "execute_result",
          "data": {
            "text/plain": [
              "<matplotlib.axes._subplots.AxesSubplot at 0x7fa87795f350>"
            ]
          },
          "metadata": {},
          "execution_count": 127
        },
        {
          "output_type": "display_data",
          "data": {
            "text/plain": [
              "<Figure size 432x288 with 1 Axes>"
            ],
            "image/png": "[encoded data removed]"
          },
          "metadata": {
            "needs_background": "light"
          }
        }
      ]
    },
    {
      "cell_type": "markdown",
      "source": [
        "From the above plot we can see that H,G,I,J have less number of outlier than D,E,F"
      ],
      "metadata": {
        "id": "iHBlT4Kc_kAT"
      }
    },
    {
      "cell_type": "code",
      "source": [
        "sns.boxplot(y = 'price',data=df,x='cut',palette='Set1',width=0.4,order=['Ideal','Premium','Very Good','Good','Fair'])"
      ],
      "metadata": {
        "colab": {
          "base_uri": "https://localhost:8080/",
          "height": 296
        },
        "id": "odB5rt3y_WQO",
        "outputId": "29555683-43bb-44b5-93b3-4d17a6241700"
      },
      "execution_count": 128,
      "outputs": [
        {
          "output_type": "execute_result",
          "data": {
            "text/plain": [
              "<matplotlib.axes._subplots.AxesSubplot at 0x7fa877952a10>"
            ]
          },
          "metadata": {},
          "execution_count": 128
        },
        {
          "output_type": "display_data",
          "data": {
            "text/plain": [
              "<Figure size 432x288 with 1 Axes>"
            ],
            "image/png": "[encoded data removed]"
          },
          "metadata": {
            "needs_background": "light"
          }
        }
      ]
    },
    {
      "cell_type": "markdown",
      "source": [
        "From the above plot we can see that fair and ideal have high number of outlier compared to others"
      ],
      "metadata": {
        "id": "BzuFqIGjAimA"
      }
    },
    {
      "cell_type": "code",
      "source": [
        "sns.boxplot(y = 'price',data=df,x='clarity',palette='Set1',width=0.7,order=['IF','VVS1','VVS2','VS1','VS2','SI1','SI2','I1'])"
      ],
      "metadata": {
        "colab": {
          "base_uri": "https://localhost:8080/",
          "height": 296
        },
        "id": "t3Gq4rzqAY1b",
        "outputId": "fbd45cb7-17b9-4936-febd-cbb897a03aa8"
      },
      "execution_count": 129,
      "outputs": [
        {
          "output_type": "execute_result",
          "data": {
            "text/plain": [
              "<matplotlib.axes._subplots.AxesSubplot at 0x7fa877943f90>"
            ]
          },
          "metadata": {},
          "execution_count": 129
        },
        {
          "output_type": "display_data",
          "data": {
            "text/plain": [
              "<Figure size 432x288 with 1 Axes>"
            ],
            "image/png": "[encoded data removed]"
          },
          "metadata": {
            "needs_background": "light"
          }
        }
      ]
    },
    {
      "cell_type": "markdown",
      "source": [
        "From the above plot we can see that IF and VVS1 have high number of outlier compared to others."
      ],
      "metadata": {
        "id": "rwTawuTlCL8m"
      }
    },
    {
      "cell_type": "markdown",
      "source": [
        "## Data Preprocessing"
      ],
      "metadata": {
        "id": "tBPdOaKXW3ff"
      }
    },
    {
      "cell_type": "code",
      "source": [
        "num_df = df.select_dtypes(exclude=[np.object])\n",
        "cat_df = df.select_dtypes(exclude=[np.float64, np.int64])"
      ],
      "metadata": {
        "id": "aSvnOGIfW_qY"
      },
      "execution_count": 130,
      "outputs": []
    },
    {
      "cell_type": "code",
      "source": [
        "plt.subplots(figsize=(20,10))\n",
        "count=1\n",
        "while(count<8):\n",
        "  for i in num_df.columns:\n",
        "    plt.subplot(3,3,count)\n",
        "    sns.boxplot(x=df[i])\n",
        "    count +=1\n",
        "plt.show()    "
      ],
      "metadata": {
        "colab": {
          "base_uri": "https://localhost:8080/",
          "height": 606
        },
        "id": "HS3siP11CYoV",
        "outputId": "e0329203-af97-41cb-aa17-16b12ecff5b9"
      },
      "execution_count": 131,
      "outputs": [
        {
          "output_type": "display_data",
          "data": {
            "text/plain": [
              "<Figure size 1440x720 with 7 Axes>"
            ],
            "image/png": "[encoded data removed]"
          },
          "metadata": {
            "needs_background": "light"
          }
        }
      ]
    },
    {
      "cell_type": "code",
      "source": [
        "df.shape"
      ],
      "metadata": {
        "colab": {
          "base_uri": "https://localhost:8080/"
        },
        "id": "_5M_IiDCdHSF",
        "outputId": "56dd2ab7-5236-444f-c304-978e12f4e65f"
      },
      "execution_count": 132,
      "outputs": [
        {
          "output_type": "execute_result",
          "data": {
            "text/plain": [
              "(53794, 10)"
            ]
          },
          "metadata": {},
          "execution_count": 132
        }
      ]
    },
    {
      "cell_type": "code",
      "source": [
        "def remove_outlier_IQR(df, field_name):\n",
        "    iqr= 1.5*(np.percentile(df[field_name],75)-\n",
        "              np.percentile(df[field_name],25))\n",
        "    df.drop(df[df[field_name]>(\n",
        "        iqr + np.percentile(df[field_name],75))].index, inplace=True)\n",
        "    df.drop(df[df[field_name]< (np.percentile(df[field_name],25)-iqr)].index, inplace=True)\n",
        "    return df\n",
        "    "
      ],
      "metadata": {
        "id": "rv09xS7IYoV9"
      },
      "execution_count": 133,
      "outputs": []
    },
    {
      "cell_type": "code",
      "source": [
        "print('Shape of df before IQR:',df.shape)\n",
        "df2 = remove_outlier_IQR(df, 'carat')\n",
        "df2 = remove_outlier_IQR(df2, 'depth')\n",
        "df2 = remove_outlier_IQR(df2, 'table')\n",
        "df2 = remove_outlier_IQR(df2, 'price')\n",
        "df2 = remove_outlier_IQR(df2, 'x')\n",
        "df2 = remove_outlier_IQR(df2, 'y')\n",
        "df_final = remove_outlier_IQR(df2, 'z')\n",
        "\n",
        "print('Shape of df after IQR:',df_final.shape)\n"
      ],
      "metadata": {
        "colab": {
          "base_uri": "https://localhost:8080/"
        },
        "id": "MXnmUn9Ga8y9",
        "outputId": "c8fb21f5-56bd-4fe7-eeee-4c8250c3fa1b"
      },
      "execution_count": 134,
      "outputs": [
        {
          "output_type": "stream",
          "name": "stdout",
          "text": [
            "Shape of df before IQR: (53794, 10)\n",
            "Shape of df after IQR: (46425, 10)\n"
          ]
        }
      ]
    },
    {
      "cell_type": "code",
      "source": [
        "plt.subplots(figsize=(20,10))\n",
        "count=1\n",
        "while(count<8):\n",
        "  for i in num_df.columns:\n",
        "    plt.subplot(3,3,count)\n",
        "    sns.boxplot(x=df_final[i])\n",
        "    count +=1\n",
        "plt.show()  "
      ],
      "metadata": {
        "colab": {
          "base_uri": "https://localhost:8080/",
          "height": 606
        },
        "id": "Ki_tqqxUdjG2",
        "outputId": "98a65121-0359-4ea1-b4fd-0194eb1ef680"
      },
      "execution_count": 135,
      "outputs": [
        {
          "output_type": "display_data",
          "data": {
            "text/plain": [
              "<Figure size 1440x720 with 7 Axes>"
            ],
            "image/png": "[encoded data removed]"
          },
          "metadata": {
            "needs_background": "light"
          }
        }
      ]
    },
    {
      "cell_type": "code",
      "source": [
        "# Feature Transformation\n",
        "df.dtypes[df.dtypes=='object']"
      ],
      "metadata": {
        "colab": {
          "base_uri": "https://localhost:8080/"
        },
        "id": "8J3uDeoQd6-r",
        "outputId": "84079af1-af8a-49fb-937d-7b745a74719a"
      },
      "execution_count": 136,
      "outputs": [
        {
          "output_type": "execute_result",
          "data": {
            "text/plain": [
              "cut        object\n",
              "color      object\n",
              "clarity    object\n",
              "dtype: object"
            ]
          },
          "metadata": {},
          "execution_count": 136
        }
      ]
    },
    {
      "cell_type": "code",
      "source": [
        "print(df['cut'].unique())\n",
        "print(df['color'].unique())\n",
        "print(df['clarity'].unique())\n"
      ],
      "metadata": {
        "colab": {
          "base_uri": "https://localhost:8080/"
        },
        "id": "Z5KtbBf5ePzv",
        "outputId": "2bb13dd5-566c-4d71-ff83-0c84c80437ff"
      },
      "execution_count": 137,
      "outputs": [
        {
          "output_type": "stream",
          "name": "stdout",
          "text": [
            "['Ideal' 'Premium' 'Good' 'Very Good' 'Fair']\n",
            "['E' 'I' 'J' 'H' 'F' 'G' 'D']\n",
            "['SI2' 'SI1' 'VS2' 'VVS2' 'VVS1' 'VS1' 'I1' 'IF']\n"
          ]
        }
      ]
    },
    {
      "cell_type": "code",
      "source": [
        "from sklearn import preprocessing\n",
        "label_encoder = preprocessing.LabelEncoder()"
      ],
      "metadata": {
        "id": "TpMXn5N7evf3"
      },
      "execution_count": 138,
      "outputs": []
    },
    {
      "cell_type": "code",
      "source": [
        "df['cut']= label_encoder.fit_transform(df['cut'])\n",
        "df['color']= label_encoder.fit_transform(df['color'])\n",
        "df['clarity']= label_encoder.fit_transform(df['clarity'])\n",
        "print(df['cut'].unique())\n",
        "print(df['color'].unique())\n",
        "print(df['clarity'].unique())\n",
        "\n"
      ],
      "metadata": {
        "colab": {
          "base_uri": "https://localhost:8080/"
        },
        "id": "2xoOFLKCfdmE",
        "outputId": "46bcef95-fce2-4c52-db5d-e2f38215093f"
      },
      "execution_count": 139,
      "outputs": [
        {
          "output_type": "stream",
          "name": "stdout",
          "text": [
            "[2 3 1 4 0]\n",
            "[1 5 6 4 2 3 0]\n",
            "[3 2 5 7 6 4 0 1]\n"
          ]
        }
      ]
    },
    {
      "cell_type": "markdown",
      "source": [
        "## Data Splitting for Train and Test"
      ],
      "metadata": {
        "id": "fGNET2pUf8gE"
      }
    },
    {
      "cell_type": "code",
      "source": [
        "from sklearn.preprocessing import StandardScaler\n",
        "from sklearn.model_selection import train_test_split\n",
        "X= df.drop(columns=['price'])\n",
        "y= df['price']\n",
        "#Scaling the data\n",
        "scaler = StandardScaler()\n",
        "scaled_df = scaler.fit_transform(X)\n",
        "\n",
        "X_train,X_test,y_train,y_test= train_test_split(scaled_df,y,test_size=0.25)\n",
        "print('X train shape: {} and y train shape: {}'.format(X_train.shape,y_train.shape))\n",
        "print('X test shape: {} and y test shape: {}'.format(X_test.shape,y_test.shape))\n"
      ],
      "metadata": {
        "id": "J4GxP3a9drkh",
        "colab": {
          "base_uri": "https://localhost:8080/"
        },
        "outputId": "ed7c30c5-aef6-43e0-b9c5-f4f59da4364d"
      },
      "execution_count": 140,
      "outputs": [
        {
          "output_type": "stream",
          "name": "stdout",
          "text": [
            "X train shape: (34818, 9) and y train shape: (34818,)\n",
            "X test shape: (11607, 9) and y test shape: (11607,)\n"
          ]
        }
      ]
    },
    {
      "cell_type": "markdown",
      "source": [
        "# Model Training and evaluation"
      ],
      "metadata": {
        "id": "t6MV5PJFx9zc"
      }
    },
    {
      "cell_type": "code",
      "source": [
        "train  = np.array(X_train)\n",
        "y_train = np.array(y_train)\n",
        "#reshaping array from columns to rows\n",
        "y_train = y_train.reshape(-1,1)\n",
        "#converting into matrix\n",
        "train_df = np.hstack([train, y_train])                   \n",
        "train_df[0:2]                  "
      ],
      "metadata": {
        "colab": {
          "base_uri": "https://localhost:8080/"
        },
        "id": "yJjhudDIyG64",
        "outputId": "97154ad4-891f-4ef1-c2eb-c86597cb4abe"
      },
      "execution_count": 141,
      "outputs": [
        {
          "output_type": "execute_result",
          "data": {
            "text/plain": [
              "array([[-5.20016088e-01, -6.61792692e-01, -9.11144578e-01,\n",
              "         6.43638578e-01, -8.38563181e-01, -6.15691568e-01,\n",
              "        -3.34032091e-01, -3.93518750e-01, -4.42643843e-01,\n",
              "         1.78100000e+03],\n",
              "       [-1.04495439e+00,  1.45862042e+00,  2.75704289e-01,\n",
              "        -1.66912620e+00, -3.40798089e-03, -1.11222996e+00,\n",
              "        -1.17402606e+00, -1.12383778e+00, -1.14602354e+00,\n",
              "         9.54000000e+02]])"
            ]
          },
          "metadata": {},
          "execution_count": 141
        }
      ]
    },
    {
      "cell_type": "code",
      "source": [
        "test= np.array(X_test)\n",
        "test[0]"
      ],
      "metadata": {
        "colab": {
          "base_uri": "https://localhost:8080/"
        },
        "id": "PiP7V8UM0t_s",
        "outputId": "0440ee21-ba09-419e-b573-35f5e1a5b262"
      },
      "execution_count": 142,
      "outputs": [
        {
          "output_type": "execute_result",
          "data": {
            "text/plain": [
              "array([ 0.28120554, -0.66179269,  0.27570429, -0.51274381,  0.36777211,\n",
              "       -0.11915317,  0.42299951,  0.4515647 ,  0.47844862])"
            ]
          },
          "metadata": {},
          "execution_count": 142
        }
      ]
    },
    {
      "cell_type": "code",
      "source": [
        "preds = []\n",
        "for i in range(len(test)):\n",
        "    distances = np.sqrt(np.sum((train-test[i])**2,axis=1))\n",
        "    distances = distances.reshape(-1,1)\n",
        "    matrix = np.hstack([train_df,distances])\n",
        "    sorted_matrix = matrix[matrix[:,-1].argsort()]\n",
        "    neighbours = [sorted_matrix[i][-2] for i in range(5)] \n",
        "    pred_value = np.mean(neighbours)\n",
        "    preds.append(pred_value)\n",
        "knn_scratch_pred = np.array(preds)\n",
        "knn_scratch_pred"
      ],
      "metadata": {
        "colab": {
          "base_uri": "https://localhost:8080/"
        },
        "id": "l2fbCJUB04fJ",
        "outputId": "1139fa8d-8f34-4c75-c671-d2aa3413e917"
      },
      "execution_count": 143,
      "outputs": [
        {
          "output_type": "execute_result",
          "data": {
            "text/plain": [
              "array([2688.8, 1162.4, 5593.4, ...,  631.2,  677.2, 2023.4])"
            ]
          },
          "metadata": {},
          "execution_count": 143
        }
      ]
    },
    {
      "cell_type": "code",
      "source": [
        "## Using Sklearn\n",
        "# to find optimal k value\n",
        "from sklearn import neighbors\n",
        "from sklearn.metrics import mean_squared_error\n",
        "from math import sqrt\n",
        "import matplotlib.pyplot as plt\n",
        "\n",
        "rmse_value = []\n",
        "for K in range(10):\n",
        "    K= K+1\n",
        "    model = neighbors.KNeighborsRegressor(n_neighbors=K)\n",
        "    model.fit(X_train,y_train)\n",
        "    pred = model.predict(X_test)\n",
        "    error = sqrt(mean_squared_error(y_test,pred))\n",
        "    rmse_value.append(error)\n",
        "    print('RMSE value for k = ',K, 'is:',error)\n",
        "\n"
      ],
      "metadata": {
        "id": "SF55WSom094z",
        "colab": {
          "base_uri": "https://localhost:8080/"
        },
        "outputId": "7cb6fa97-2af9-4ac1-81bc-fec6d4be151b"
      },
      "execution_count": 144,
      "outputs": [
        {
          "output_type": "stream",
          "name": "stdout",
          "text": [
            "RMSE value for k =  1 is: 589.3528236581678\n",
            "RMSE value for k =  2 is: 525.0732568778462\n",
            "RMSE value for k =  3 is: 515.3824891061514\n",
            "RMSE value for k =  4 is: 499.49292954492796\n",
            "RMSE value for k =  5 is: 494.1796869751608\n",
            "RMSE value for k =  6 is: 496.4944929747303\n",
            "RMSE value for k =  7 is: 501.6121014469945\n",
            "RMSE value for k =  8 is: 504.8002038750147\n",
            "RMSE value for k =  9 is: 506.23274281328656\n",
            "RMSE value for k =  10 is: 509.748531998772\n"
          ]
        }
      ]
    },
    {
      "cell_type": "code",
      "source": [
        "# Using optimal k value\n",
        "from sklearn import neighbors\n",
        "model = neighbors.KNeighborsRegressor(n_neighbors=5)\n",
        "model.fit(X_train,y_train)\n",
        "pred= model.predict(X_test)\n",
        "pred"
      ],
      "metadata": {
        "colab": {
          "base_uri": "https://localhost:8080/"
        },
        "id": "o8F3t0xnmtzh",
        "outputId": "74963517-9f0b-499a-a289-8dc57c04cee2"
      },
      "execution_count": 145,
      "outputs": [
        {
          "output_type": "execute_result",
          "data": {
            "text/plain": [
              "array([[2688.8],\n",
              "       [1162.4],\n",
              "       [5593.4],\n",
              "       ...,\n",
              "       [ 631.2],\n",
              "       [ 677.2],\n",
              "       [2023.4]])"
            ]
          },
          "metadata": {},
          "execution_count": 145
        }
      ]
    },
    {
      "cell_type": "markdown",
      "source": [
        "## Comparing Sklearn and KNN from Scratch"
      ],
      "metadata": {
        "id": "cFiQXXl0niGj"
      }
    },
    {
      "cell_type": "code",
      "source": [
        "print('Predicted values using sklearn:',pred)\n",
        "print('Predicted values using knn_from_scratch:',knn_scratch_pred)\n"
      ],
      "metadata": {
        "colab": {
          "base_uri": "https://localhost:8080/"
        },
        "id": "R2NbgW41nfp2",
        "outputId": "e9bef33e-0af2-42c0-99b4-f498d7480099"
      },
      "execution_count": 146,
      "outputs": [
        {
          "output_type": "stream",
          "name": "stdout",
          "text": [
            "Predicted values using sklearn: [[2688.8]\n",
            " [1162.4]\n",
            " [5593.4]\n",
            " ...\n",
            " [ 631.2]\n",
            " [ 677.2]\n",
            " [2023.4]]\n",
            "Predicted values using knn_from_scratch: [2688.8 1162.4 5593.4 ...  631.2  677.2 2023.4]\n"
          ]
        }
      ]
    },
    {
      "cell_type": "code",
      "source": [
        "sklearn_pred = pred.reshape(-1,1)\n",
        "knn_pred = knn_scratch_pred.reshape(-1,1)\n",
        "predicted_values = np.hstack([sklearn_pred,knn_pred])\n",
        "pred_df = pd.DataFrame(predicted_values,columns=['sklearn_preds','knn_preds'])\n",
        "pred_df"
      ],
      "metadata": {
        "colab": {
          "base_uri": "https://localhost:8080/",
          "height": 424
        },
        "id": "f6t-gsaeoDcm",
        "outputId": "c746803a-02df-4e06-93c3-4e54eb597aec"
      },
      "execution_count": 147,
      "outputs": [
        {
          "output_type": "execute_result",
          "data": {
            "text/plain": [
              "       sklearn_preds  knn_preds\n",
              "0             2688.8     2688.8\n",
              "1             1162.4     1162.4\n",
              "2             5593.4     5593.4\n",
              "3             2650.4     2650.4\n",
              "4             5253.6     5253.6\n",
              "...              ...        ...\n",
              "11602          838.8      838.8\n",
              "11603         5934.2     5934.2\n",
              "11604          631.2      631.2\n",
              "11605          677.2      677.2\n",
              "11606         2023.4     2023.4\n",
              "\n",
              "[11607 rows x 2 columns]"
            ],
            "text/html": [
              "\n",
              "  <div id=\"df-fdf59f22-97a5-49ac-afa0-284e1faccea5\">\n",
              "    <div class=\"colab-df-container\">\n",
              "      <div>\n",
              "<style scoped>\n",
              "    .dataframe tbody tr th:only-of-type {\n",
              "        vertical-align: middle;\n",
              "    }\n",
              "\n",
              "    .dataframe tbody tr th {\n",
              "        vertical-align: top;\n",
              "    }\n",
              "\n",
              "    .dataframe thead th {\n",
              "        text-align: right;\n",
              "    }\n",
              "</style>\n",
              "<table border=\"1\" class=\"dataframe\">\n",
              "  <thead>\n",
              "    <tr style=\"text-align: right;\">\n",
              "      <th></th>\n",
              "      <th>sklearn_preds</th>\n",
              "      <th>knn_preds</th>\n",
              "    </tr>\n",
              "  </thead>\n",
              "  <tbody>\n",
              "    <tr>\n",
              "      <th>0</th>\n",
              "      <td>2688.8</td>\n",
              "      <td>2688.8</td>\n",
              "    </tr>\n",
              "    <tr>\n",
              "      <th>1</th>\n",
              "      <td>1162.4</td>\n",
              "      <td>1162.4</td>\n",
              "    </tr>\n",
              "    <tr>\n",
              "      <th>2</th>\n",
              "      <td>5593.4</td>\n",
              "      <td>5593.4</td>\n",
              "    </tr>\n",
              "    <tr>\n",
              "      <th>3</th>\n",
              "      <td>2650.4</td>\n",
              "      <td>2650.4</td>\n",
              "    </tr>\n",
              "    <tr>\n",
              "      <th>4</th>\n",
              "      <td>5253.6</td>\n",
              "      <td>5253.6</td>\n",
              "    </tr>\n",
              "    <tr>\n",
              "      <th>...</th>\n",
              "      <td>...</td>\n",
              "      <td>...</td>\n",
              "    </tr>\n",
              "    <tr>\n",
              "      <th>11602</th>\n",
              "      <td>838.8</td>\n",
              "      <td>838.8</td>\n",
              "    </tr>\n",
              "    <tr>\n",
              "      <th>11603</th>\n",
              "      <td>5934.2</td>\n",
              "      <td>5934.2</td>\n",
              "    </tr>\n",
              "    <tr>\n",
              "      <th>11604</th>\n",
              "      <td>631.2</td>\n",
              "      <td>631.2</td>\n",
              "    </tr>\n",
              "    <tr>\n",
              "      <th>11605</th>\n",
              "      <td>677.2</td>\n",
              "      <td>677.2</td>\n",
              "    </tr>\n",
              "    <tr>\n",
              "      <th>11606</th>\n",
              "      <td>2023.4</td>\n",
              "      <td>2023.4</td>\n",
              "    </tr>\n",
              "  </tbody>\n",
              "</table>\n",
              "<p>11607 rows × 2 columns</p>\n",
              "</div>\n",
              "      <button class=\"colab-df-convert\" onclick=\"convertToInteractive('df-fdf59f22-97a5-49ac-afa0-284e1faccea5')\"\n",
              "              title=\"Convert this dataframe to an interactive table.\"\n",
              "              style=\"display:none;\">\n",
              "        \n",
              "  <svg xmlns=\"http://www.w3.org/2000/svg\" height=\"24px\"viewBox=\"0 0 24 24\"\n",
              "       width=\"24px\">\n",
              "    <path d=\"M0 0h24v24H0V0z\" fill=\"none\"/>\n",
              "    <path d=\"M18.56 5.44l.94 2.06.94-2.06 2.06-.94-2.06-.94-.94-2.06-.94 2.06-2.06.94zm-11 1L8.5 8.5l.94-2.06 2.06-.94-2.06-.94L8.5 2.5l-.94 2.06-2.06.94zm10 10l.94 2.06.94-2.06 2.06-.94-2.06-.94-.94-2.06-.94 2.06-2.06.94z\"/><path d=\"M17.41 7.96l-1.37-1.37c-.4-.4-.92-.59-1.43-.59-.52 0-1.04.2-1.43.59L10.3 9.45l-7.72 7.72c-.78.78-.78 2.05 0 2.83L4 21.41c.39.39.9.59 1.41.59.51 0 1.02-.2 1.41-.59l7.78-7.78 2.81-2.81c.8-.78.8-2.07 0-2.86zM5.41 20L4 18.59l7.72-7.72 1.47 1.35L5.41 20z\"/>\n",
              "  </svg>\n",
              "      </button>\n",
              "      \n",
              "  <style>\n",
              "    .colab-df-container {\n",
              "      display:flex;\n",
              "      flex-wrap:wrap;\n",
              "      gap: 12px;\n",
              "    }\n",
              "\n",
              "    .colab-df-convert {\n",
              "      background-color: #E8F0FE;\n",
              "      border: none;\n",
              "      border-radius: 50%;\n",
              "      cursor: pointer;\n",
              "      display: none;\n",
              "      fill: #1967D2;\n",
              "      height: 32px;\n",
              "      padding: 0 0 0 0;\n",
              "      width: 32px;\n",
              "    }\n",
              "\n",
              "    .colab-df-convert:hover {\n",
              "      background-color: #E2EBFA;\n",
              "      box-shadow: 0px 1px 2px rgba(60, 64, 67, 0.3), 0px 1px 3px 1px rgba(60, 64, 67, 0.15);\n",
              "      fill: #174EA6;\n",
              "    }\n",
              "\n",
              "    [theme=dark] .colab-df-convert {\n",
              "      background-color: #3B4455;\n",
              "      fill: #D2E3FC;\n",
              "    }\n",
              "\n",
              "    [theme=dark] .colab-df-convert:hover {\n",
              "      background-color: #434B5C;\n",
              "      box-shadow: 0px 1px 3px 1px rgba(0, 0, 0, 0.15);\n",
              "      filter: drop-shadow(0px 1px 2px rgba(0, 0, 0, 0.3));\n",
              "      fill: #FFFFFF;\n",
              "    }\n",
              "  </style>\n",
              "\n",
              "      <script>\n",
              "        const buttonEl =\n",
              "          document.querySelector('#df-fdf59f22-97a5-49ac-afa0-284e1faccea5 button.colab-df-convert');\n",
              "        buttonEl.style.display =\n",
              "          google.colab.kernel.accessAllowed ? 'block' : 'none';\n",
              "\n",
              "        async function convertToInteractive(key) {\n",
              "          const element = document.querySelector('#df-fdf59f22-97a5-49ac-afa0-284e1faccea5');\n",
              "          const dataTable =\n",
              "            await google.colab.kernel.invokeFunction('convertToInteractive',\n",
              "                                                     [key], {});\n",
              "          if (!dataTable) return;\n",
              "\n",
              "          const docLinkHtml = 'Like what you see? Visit the ' +\n",
              "            '<a target=\"_blank\" href=https://colab.research.google.com/notebooks/data_table.ipynb>data table notebook</a>'\n",
              "            + ' to learn more about interactive tables.';\n",
              "          element.innerHTML = '';\n",
              "          dataTable['output_type'] = 'display_data';\n",
              "          await google.colab.output.renderOutput(dataTable, element);\n",
              "          const docLink = document.createElement('div');\n",
              "          docLink.innerHTML = docLinkHtml;\n",
              "          element.appendChild(docLink);\n",
              "        }\n",
              "      </script>\n",
              "    </div>\n",
              "  </div>\n",
              "  "
            ]
          },
          "metadata": {},
          "execution_count": 147
        }
      ]
    },
    {
      "cell_type": "markdown",
      "source": [
        "Conclusion: WE are getting similar output with or without using sklearn."
      ],
      "metadata": {
        "id": "T1kfQ794rJi0"
      }
    },
    {
      "cell_type": "code",
      "source": [],
      "metadata": {
        "id": "Uf_GEoRPrD02"
      },
      "execution_count": null,
      "outputs": []
    }
  ]
}